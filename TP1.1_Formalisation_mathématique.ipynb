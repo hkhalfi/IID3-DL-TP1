{
 "cells": [
  {
   "cell_type": "markdown",
   "metadata": {
    "id": "37odMBPjHyob"
   },
   "source": [
    "# *TP1 - DEEP LEARNING*"
   ]
  },
  {
   "cell_type": "markdown",
   "metadata": {
    "id": "tghqWAdqHyob"
   },
   "source": [
    "# Partie 1 : _Formalisation mathématique_"
   ]
  },
  {
   "cell_type": "markdown",
   "metadata": {},
   "source": [
    "Pour appliquer un réseau de neurones à un problème de machine learning (en apprentissage supervisé),\n",
    "on a besoin de 4 choses :\n",
    "\n",
    "- Un jeu de données annoté et un problème associé ;\n",
    "- Une architecture de réseau (à adapter aux données) ;\n",
    "- Une fonction de coût que l’on cherche à minimiser (à adapter au problème) ;\n",
    "- Un algorithme d’apprentissage pour résoudre le problème d’optimisation consistant à minimiser\n",
    "cette fonction de coût.\n",
    "\n",
    "On s'intéresse ici à un problème de classification en apprentissage supervisé. On a donc un jeu de données constitué d'un ensemble de $N$ couples $ (x^{(i)}, y^{(i)}) $, où $ i \\in \\{1, ..., N\\} $, $ x^{(i)} \\in \\mathbb{R}^{n_x} $ est un vecteur de _features_ à partir duquel on veut prédire la vérité terrain $ y^{(i)} \\in \\{0, 1\\}^{n_y} $ vérifiant $ \\|y^{(i)}\\| = 1 $ (_one hot encoding_). \n",
    "\n",
    "Ce jeu de données est généralement découpé en plusieurs ensembles : **train**, **test** et parfois **val**."
   ]
  },
  {
   "cell_type": "markdown",
   "metadata": {
    "id": "3744XSfKHyob"
   },
   "source": [
    "### Q1. A quoi servent les ensembles d’apprentissage, de validation et de test ?\n"
   ]
  },
  {
   "cell_type": "markdown",
   "metadata": {},
   "source": [
    "* #####  _Votre réponse ici._"
   ]
  },
  {
   "cell_type": "markdown",
   "metadata": {
    "id": "PAMIxCJWHyoc"
   },
   "source": [
    "### Q2. Quelle est l’influence du nombre $N$ d’exemples ?"
   ]
  },
  {
   "cell_type": "markdown",
   "metadata": {},
   "source": [
    "* #####  _Votre réponse ici._"
   ]
  },
  {
   "cell_type": "markdown",
   "metadata": {
    "id": "mnlVKmAPHyoc"
   },
   "source": [
    "#### Q3. Pourquoi est-il important d’ajouter des fonctions d’activation entre des transformations lineaires ?"
   ]
  },
  {
   "cell_type": "markdown",
   "metadata": {},
   "source": [
    "* #####  _Votre réponse ici._"
   ]
  },
  {
   "cell_type": "markdown",
   "metadata": {
    "id": "HoFD1mF5Hyoe"
   },
   "source": [
    "#### Q4. Quelles sont les tailles $ n_{x}, n_{h}, n_{y} $ sur la figure 1  ? En pratique, comment ces tailles sont-elles choisies ?"
   ]
  },
  {
   "cell_type": "markdown",
   "metadata": {},
   "source": [
    "* #####  _Votre réponse ici._"
   ]
  },
  {
   "cell_type": "markdown",
   "metadata": {
    "id": "sl8NKiWIHyoe"
   },
   "source": [
    "#### Q5. Que représentent les vecteurs $ y $ et $ \\hat{y} $ ? Quelle est la différence entre ces deux quantités ?"
   ]
  },
  {
   "cell_type": "markdown",
   "metadata": {},
   "source": [
    "* #####  _Votre réponse ici._"
   ]
  },
  {
   "cell_type": "markdown",
   "metadata": {
    "id": "BIED5B0SHyof"
   },
   "source": [
    "#### Q6. Pourquoi utiliser une fonction $ SoftMax $ en sortie ?"
   ]
  },
  {
   "cell_type": "markdown",
   "metadata": {},
   "source": [
    "* #####  _Votre réponse ici._"
   ]
  },
  {
   "cell_type": "markdown",
   "metadata": {
    "id": "hZIbE0MuHyof"
   },
   "source": [
    "#### Q7. Écrire les équations mathématiques permettant d'effectuer la passe forward du réseau de neurones, produisant successivement $ \\tilde{h}, \\hat{h}, \\tilde{y}, $ et $ \\hat{y} $ à partir de $ x $."
   ]
  },
  {
   "cell_type": "markdown",
   "metadata": {},
   "source": [
    "* #####  _Votre réponse ici._"
   ]
  },
  {
   "cell_type": "markdown",
   "metadata": {
    "id": "0EyKp7e_Hyof"
   },
   "source": [
    "#### Q8. Pendant l’apprentissage, on cherche à minimiser la fonction de coût. Pour l’entropie croisée et l’erreur quadratique, comment les $ \\hat{y}_i $ doivent-ils varier pour faire diminuer la loss ?"
   ]
  },
  {
   "cell_type": "markdown",
   "metadata": {},
   "source": [
    "* #####  _Votre réponse ici._"
   ]
  },
  {
   "cell_type": "markdown",
   "metadata": {
    "id": "v0WWLSBUHyof"
   },
   "source": [
    "#### Q9. En quoi ces fonctions sont-elles plus adaptées aux problèmes de classification ou de régression ?"
   ]
  },
  {
   "cell_type": "markdown",
   "metadata": {},
   "source": [
    "* #####  _Votre réponse ici._"
   ]
  },
  {
   "cell_type": "markdown",
   "metadata": {
    "id": "moNmwesbHyof"
   },
   "source": [
    "#### Q10. Quels semblent etre les avantages et inconvenients des diverses variantes de descente de gradient entre les versions classique, stochastique sur mini-batch et stochastique online ? Laquelle semble la plus raisonnable a utiliser dans le cas general ?"
   ]
  },
  {
   "cell_type": "markdown",
   "metadata": {},
   "source": [
    "* #####  _Votre réponse ici._"
   ]
  },
  {
   "cell_type": "markdown",
   "metadata": {},
   "source": [
    "#### Q11. Quelle est l’influence du learning rate $ η $ sur l’apprentissage ?"
   ]
  },
  {
   "cell_type": "markdown",
   "metadata": {},
   "source": [
    "* #####  _Votre réponse ici._"
   ]
  },
  {
   "cell_type": "markdown",
   "metadata": {},
   "source": [
    "#### Q12. Comparer la complexité (en fonction du nombre de couches du réseau)  du calcul des gradients de la loss par rapport aux paramètres, en utilisant l'approche naïve et l'algorithme de l’algorithme de backprop ."
   ]
  },
  {
   "cell_type": "markdown",
   "metadata": {},
   "source": [
    "* #####  _Votre réponse ici._"
   ]
  },
  {
   "cell_type": "markdown",
   "metadata": {},
   "source": [
    "#### Q13. Quel critère doit respecter l’architecture du réseau pour permettre la backpropagation ?"
   ]
  },
  {
   "cell_type": "markdown",
   "metadata": {},
   "source": [
    "* #####  _Votre réponse ici._"
   ]
  },
  {
   "cell_type": "markdown",
   "metadata": {},
   "source": [
    "#### Q14. La fonction $ SoftMax $ et la loss de cross-entropy sont souvent utilisées ensemble et leur gradient est très simple. Montrez que la loss se simplifie en :"
   ]
  },
  {
   "cell_type": "markdown",
   "metadata": {},
   "source": [
    "* #####  _Votre réponse ici._"
   ]
  },
  {
   "cell_type": "markdown",
   "metadata": {},
   "source": [
    "#### Q15. Écrire le gradient de la loss (cross-entropy) par rapport à la sortie intermédiaire $\\tilde{y}$ :"
   ]
  },
  {
   "cell_type": "markdown",
   "metadata": {},
   "source": [
    "* #####  _Votre réponse ici._"
   ]
  }
 ],
 "metadata": {
  "colab": {
   "provenance": []
  },
  "kernelspec": {
   "display_name": "torchenv",
   "language": "python",
   "name": "python3"
  },
  "language_info": {
   "codemirror_mode": {
    "name": "ipython",
    "version": 3
   },
   "file_extension": ".py",
   "mimetype": "text/x-python",
   "name": "python",
   "nbconvert_exporter": "python",
   "pygments_lexer": "ipython3",
   "version": "3.12.6"
  }
 },
 "nbformat": 4,
 "nbformat_minor": 0
}
